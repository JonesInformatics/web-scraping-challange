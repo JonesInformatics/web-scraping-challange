{
 "cells": [
  {
   "cell_type": "code",
   "execution_count": 56,
   "metadata": {},
   "outputs": [],
   "source": [
    "# import nessacry packages\n",
    "\n",
    "from bs4 import BeautifulSoup as bs\n",
    "import requests\n",
    "from splinter import Browser\n",
    "from splinter.exceptions import ElementDoesNotExist\n",
    "\n",
    "import time\n",
    "import pandas as pd"
   ]
  },
  {
   "cell_type": "code",
   "execution_count": 57,
   "metadata": {},
   "outputs": [],
   "source": [
    "executable_path = {'executable_path': 'chromedriver.exe'}\n",
    "browser = Browser('chrome', **executable_path, headless=False)"
   ]
  },
  {
   "cell_type": "code",
   "execution_count": null,
   "metadata": {},
   "outputs": [],
   "source": []
  },
  {
   "cell_type": "markdown",
   "metadata": {},
   "source": [
    "# news "
   ]
  },
  {
   "cell_type": "code",
   "execution_count": 58,
   "metadata": {},
   "outputs": [],
   "source": [
    "# make variable for new url\n",
    "news_url = 'https://mars.nasa.gov/news/?page=0&per_page=40&order=publish_date+desc%2Ccreated_at+desc&search=&category=19%2C165%2C184%2C204&blank_scope=Latest'"
   ]
  },
  {
   "cell_type": "code",
   "execution_count": 59,
   "metadata": {},
   "outputs": [
    {
     "data": {
      "text/plain": [
       "<Response [200]>"
      ]
     },
     "execution_count": 59,
     "metadata": {},
     "output_type": "execute_result"
    }
   ],
   "source": [
    "# create variable for output of get request\n",
    "response = requests.get(news_url)\n",
    "response"
   ]
  },
  {
   "cell_type": "code",
   "execution_count": 60,
   "metadata": {},
   "outputs": [],
   "source": [
    "# turn into bs object\n",
    "soup= bs(response.text, 'html.parser')"
   ]
  },
  {
   "cell_type": "code",
   "execution_count": 61,
   "metadata": {},
   "outputs": [
    {
     "data": {
      "text/plain": [
       "\"Virginia Middle School Student Earns Honor of Naming NASA's Next Mars Rover\""
      ]
     },
     "execution_count": 61,
     "metadata": {},
     "output_type": "execute_result"
    }
   ],
   "source": [
    "# create variable for results of scarping for title info\n",
    "\n",
    "title=soup.find('div', class_=\"content_title\").find('a').text.strip()\n",
    "title"
   ]
  },
  {
   "cell_type": "code",
   "execution_count": 62,
   "metadata": {},
   "outputs": [
    {
     "data": {
      "text/plain": [
       "'NASA chose a seventh-grader from Virginia as winner of the agency\\'s \"Name the Rover\" essay contest. Alexander Mather\\'s entry for \"Perseverance\" was voted tops among 28,000 entries.'"
      ]
     },
     "execution_count": 62,
     "metadata": {},
     "output_type": "execute_result"
    }
   ],
   "source": [
    "# create variable for results of scarping paragraph info\n",
    "\n",
    "paragraph=soup.find('div', class_=\"rollover_description_inner\").text.strip()\n",
    "paragraph"
   ]
  },
  {
   "cell_type": "markdown",
   "metadata": {},
   "source": [
    "# Hemisphere Images"
   ]
  },
  {
   "cell_type": "code",
   "execution_count": 63,
   "metadata": {},
   "outputs": [],
   "source": [
    "# hemispheres\n",
    "# create empty list\n",
    "\n",
    "hemisphere_url = []\n",
    "url_image = \"https://astrogeology.usgs.gov\"\n",
    "\n",
    "cerberus_url = \"https://astrogeology.usgs.gov/search/map/Mars/Viking/cerberus_enhanced\"\n",
    "browser.visit(cerberus_url)\n",
    "cerberus_html = browser.html\n",
    "cerberusSoup = bs(cerberus_html, \"html.parser\")\n",
    "\n",
    "cerberus_pic = cerberusSoup.find('img', class_=\"wide-image\")\n",
    "hemisphere_url.append({\"title\":\"Cerberus Hemisphere\", \"URL\": url_image + cerberus_pic['src']})"
   ]
  },
  {
   "cell_type": "code",
   "execution_count": 64,
   "metadata": {},
   "outputs": [],
   "source": [
    "schiaparelli = \"https://astrogeology.usgs.gov/search/map/Mars/Viking/schiaparelli_enhanced\"\n",
    "browser.visit(schiaparelli)\n",
    "schiaparelli_html = browser.html\n",
    "schiaparelliSoup = bs(schiaparelliHTML, 'html.parser')\n",
    "\n",
    "schiaparelli_pic = schiaparelliSoup.find('img', class_=\"wide-image\")\n",
    "schiaparelli_pic['src']\n",
    "\n",
    "hemisphere_url.append({\"title\": \"Schiaparelli Hemisphere\", \"URL\": url_image + schiaparelli_pic['src']})\n"
   ]
  },
  {
   "cell_type": "code",
   "execution_count": 65,
   "metadata": {},
   "outputs": [],
   "source": [
    "syrtismajor = \"https://astrogeology.usgs.gov/search/map/Mars/Viking/syrtis_major_enhanced\"\n",
    "browser.visit(syrtismajor)\n",
    "syrtismajor_html = browser.html\n",
    "syrtismajorSoup = bs(syrtismajor_html, 'html.parser')\n",
    "\n",
    "syrtismajor_pic = syrtismajorSoup.find('img', class_=\"wide-image\")\n",
    "hemisphere_url.append({\"title\": \"Syrtis Major Hemisphere\", \"URL\": url_image + syrtismajor_pic['src']})\n"
   ]
  },
  {
   "cell_type": "code",
   "execution_count": 66,
   "metadata": {},
   "outputs": [
    {
     "data": {
      "text/plain": [
       "[{'title': 'Cerberus Hemisphere',\n",
       "  'URL': 'https://astrogeology.usgs.gov/cache/images/cfa62af2557222a02478f1fcd781d445_cerberus_enhanced.tif_full.jpg'},\n",
       " {'title': 'Schiaparelli Hemisphere',\n",
       "  'URL': 'https://astrogeology.usgs.gov/cache/images/3cdd1cbf5e0813bba925c9030d13b62e_schiaparelli_enhanced.tif_full.jpg'},\n",
       " {'title': 'Syrtis Major Hemisphere',\n",
       "  'URL': 'https://astrogeology.usgs.gov/cache/images/ae209b4e408bb6c3e67b6af38168cf28_syrtis_major_enhanced.tif_full.jpg'},\n",
       " {'title': 'Valles Marineris Hemisphere',\n",
       "  'URL': 'https://astrogeology.usgs.gov/cache/images/7cf2da4bf549ed01c17f206327be4db7_valles_marineris_enhanced.tif_full.jpg'}]"
      ]
     },
     "execution_count": 66,
     "metadata": {},
     "output_type": "execute_result"
    }
   ],
   "source": [
    "vallesmarineris = \"https://astrogeology.usgs.gov/search/map/Mars/Viking/valles_marineris_enhanced\"\n",
    "browser.visit(vallesmarineris)\n",
    "vallesmarineris_html = browser.html\n",
    "vallesmarinerisSoup = bs(vallesmarinerisHTML, 'html.parser')\n",
    "\n",
    "vallesmarineris_pic = vallesmarinerisSoup.find('img', class_=\"wide-image\")\n",
    "hemisphere_url.append({\"title\": \"Valles Marineris Hemisphere\", \"URL\": url_image +vallesmarineris_pic['src']})\n",
    "hemisphere_url"
   ]
  },
  {
   "cell_type": "markdown",
   "metadata": {},
   "source": [
    "# # Featurerd Image"
   ]
  },
  {
   "cell_type": "code",
   "execution_count": 67,
   "metadata": {},
   "outputs": [
    {
     "data": {
      "text/plain": [
       "'https://www.jpl.nasa.gov/spaceimages/images/wallpaper/PIA19141-1920x1200.jpg'"
      ]
     },
     "execution_count": 67,
     "metadata": {},
     "output_type": "execute_result"
    }
   ],
   "source": [
    "space_pic_url = \"https://www.jpl.nasa.gov/spaceimages/?search=&category=Mars\"\n",
    "browser.visit(space_pic_url)\n",
    "\n",
    "browser.click_link_by_partial_text('FULL IMAGE')\n",
    "\n",
    "image_html =browser.html\n",
    "\n",
    "image_soup = bs(image_html, 'html.parser')\n",
    "# image_soup.select_one(\".fancybox-image\").get('src')\n",
    "fetured_img_rel=image_soup.select_one(\".carousel_item\").get('style')\n",
    "fetured_img_rel=fetured_img_rel.split(\"\\'\")[1]\n",
    "\n",
    "fetured_img=f'https://www.jpl.nasa.gov{fetured_img_rel}'\n",
    "fetured_img"
   ]
  },
  {
   "cell_type": "markdown",
   "metadata": {},
   "source": [
    "# twitter"
   ]
  },
  {
   "cell_type": "code",
   "execution_count": 68,
   "metadata": {},
   "outputs": [
    {
     "data": {
      "text/plain": [
       "'InSight sol 454 (2020-03-06) low -96.0ºC (-140.8ºF) high -12.7ºC (9.1ºF)\\nwinds from the SSE at 5.8 m/s (12.9 mph) gusting to 25.2 m/s (56.4 mph)\\npressure at 6.30 hPapic.twitter.com/SW2gBfJY3o'"
      ]
     },
     "execution_count": 68,
     "metadata": {},
     "output_type": "execute_result"
    }
   ],
   "source": [
    "weather_url = 'https://twitter.com/marswxreport?lang=en'\n",
    "weather_stuff = requests.get(weather_url)\n",
    "twitter_soup = bs(weather_stuff.text, 'html.parser')\n",
    "mars_tweets = twitter_soup.find_all('div', class_='js-tweet-text-container')\n",
    "for tweet in mars_tweets:\n",
    "    mars_weather = tweet.find('p').text\n",
    "    if 'InSight' and 'sol' in mars_weather:\n",
    "        mars_weather=mars_weather\n",
    "        break\n",
    "    else:\n",
    "        pass\n",
    "mars_weather\n"
   ]
  },
  {
   "cell_type": "markdown",
   "metadata": {},
   "source": [
    "# mars facts"
   ]
  },
  {
   "cell_type": "code",
   "execution_count": 69,
   "metadata": {},
   "outputs": [
    {
     "data": {
      "text/plain": [
       "'<table border=\"1\" class=\"dataframe\">\\n  <thead>\\n    <tr style=\"text-align: right;\">\\n      <th></th>\\n      <th>0</th>\\n      <th>1</th>\\n    </tr>\\n  </thead>\\n  <tbody>\\n    <tr>\\n      <th>0</th>\\n      <td>Equatorial Diameter:</td>\\n      <td>6,792 km</td>\\n    </tr>\\n    <tr>\\n      <th>1</th>\\n      <td>Polar Diameter:</td>\\n      <td>6,752 km</td>\\n    </tr>\\n    <tr>\\n      <th>2</th>\\n      <td>Mass:</td>\\n      <td>6.39 × 10^23 kg (0.11 Earths)</td>\\n    </tr>\\n    <tr>\\n      <th>3</th>\\n      <td>Moons:</td>\\n      <td>2 (Phobos &amp; Deimos)</td>\\n    </tr>\\n    <tr>\\n      <th>4</th>\\n      <td>Orbit Distance:</td>\\n      <td>227,943,824 km (1.38 AU)</td>\\n    </tr>\\n    <tr>\\n      <th>5</th>\\n      <td>Orbit Period:</td>\\n      <td>687 days (1.9 years)</td>\\n    </tr>\\n    <tr>\\n      <th>6</th>\\n      <td>Surface Temperature:</td>\\n      <td>-87 to -5 °C</td>\\n    </tr>\\n    <tr>\\n      <th>7</th>\\n      <td>First Record:</td>\\n      <td>2nd millennium BC</td>\\n    </tr>\\n    <tr>\\n      <th>8</th>\\n      <td>Recorded By:</td>\\n      <td>Egyptian astronomers</td>\\n    </tr>\\n  </tbody>\\n</table>'"
      ]
     },
     "execution_count": 69,
     "metadata": {},
     "output_type": "execute_result"
    }
   ],
   "source": [
    "# Visit the Mars Facts webpage [here](https://space-facts.com/mars/) and use \n",
    "#Pandas to scrape the table containing facts about the planet including Diameter, Mass, etc.\n",
    "# Use Pandas to convert the data to a HTML table string.\n",
    "facts_url = \"https://space-facts.com/mars/\"\n",
    "\n",
    "#tables = pd.read_html(facts_url)\n",
    "#tables\n",
    "mars_facts = pd.DataFrame(pd.read_html(facts_url)[0])\n",
    "mars_facts.head()\n",
    "\n",
    "table_html =  mars_facts.to_html()\n",
    "table_html"
   ]
  },
  {
   "cell_type": "code",
   "execution_count": null,
   "metadata": {},
   "outputs": [],
   "source": []
  },
  {
   "cell_type": "code",
   "execution_count": null,
   "metadata": {},
   "outputs": [],
   "source": []
  },
  {
   "cell_type": "code",
   "execution_count": null,
   "metadata": {},
   "outputs": [],
   "source": []
  },
  {
   "cell_type": "code",
   "execution_count": null,
   "metadata": {},
   "outputs": [],
   "source": []
  },
  {
   "cell_type": "code",
   "execution_count": null,
   "metadata": {},
   "outputs": [],
   "source": []
  },
  {
   "cell_type": "code",
   "execution_count": null,
   "metadata": {},
   "outputs": [],
   "source": []
  },
  {
   "cell_type": "code",
   "execution_count": null,
   "metadata": {},
   "outputs": [],
   "source": []
  },
  {
   "cell_type": "code",
   "execution_count": null,
   "metadata": {},
   "outputs": [],
   "source": []
  },
  {
   "cell_type": "code",
   "execution_count": null,
   "metadata": {},
   "outputs": [],
   "source": []
  },
  {
   "cell_type": "code",
   "execution_count": null,
   "metadata": {},
   "outputs": [],
   "source": []
  },
  {
   "cell_type": "code",
   "execution_count": null,
   "metadata": {},
   "outputs": [],
   "source": []
  },
  {
   "cell_type": "code",
   "execution_count": null,
   "metadata": {},
   "outputs": [],
   "source": []
  }
 ],
 "metadata": {
  "kernelspec": {
   "display_name": "Python 3",
   "language": "python",
   "name": "python3"
  },
  "language_info": {
   "codemirror_mode": {
    "name": "ipython",
    "version": 3
   },
   "file_extension": ".py",
   "mimetype": "text/x-python",
   "name": "python",
   "nbconvert_exporter": "python",
   "pygments_lexer": "ipython3",
   "version": "3.6.9"
  }
 },
 "nbformat": 4,
 "nbformat_minor": 4
}
